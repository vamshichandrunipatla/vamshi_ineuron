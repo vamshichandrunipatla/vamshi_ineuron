{
  "nbformat": 4,
  "nbformat_minor": 0,
  "metadata": {
    "colab": {
      "name": "vamshi_ineuron.ipynb",
      "provenance": [],
      "collapsed_sections": []
    },
    "kernelspec": {
      "name": "python3",
      "display_name": "Python 3"
    }
  },
  "cells": [
    {
      "cell_type": "code",
      "metadata": {
        "id": "X1azaFxwoKpa",
        "colab_type": "code",
        "colab": {}
      },
      "source": [
        "def myfilter(fun,a):\n",
        "  l=[i for i in a if fun(i)==True]\n",
        "  return l\n"
      ],
      "execution_count": 0,
      "outputs": []
    },
    {
      "cell_type": "code",
      "metadata": {
        "id": "cfojWKSAoWSg",
        "colab_type": "code",
        "colab": {
          "base_uri": "https://localhost:8080/",
          "height": 34
        },
        "outputId": "977ac97f-d3ec-45d9-f3b9-f78dbe74b662"
      },
      "source": [
        "[i for i in \"ACADGILD\"]"
      ],
      "execution_count": 35,
      "outputs": [
        {
          "output_type": "execute_result",
          "data": {
            "text/plain": [
              "['A', 'C', 'A', 'D', 'G', 'I', 'L', 'D']"
            ]
          },
          "metadata": {
            "tags": []
          },
          "execution_count": 35
        }
      ]
    },
    {
      "cell_type": "code",
      "metadata": {
        "id": "Bz9C0tkRrPBx",
        "colab_type": "code",
        "colab": {
          "base_uri": "https://localhost:8080/",
          "height": 34
        },
        "outputId": "8dbf1b80-eb5a-4272-dc01-964f25f0b6b9"
      },
      "source": [
        "a=[\"x\",\"y\",\"z\"]\n",
        "b=[i*j for i in a for j in range(1,5)]\n",
        "b\n"
      ],
      "execution_count": 37,
      "outputs": [
        {
          "output_type": "execute_result",
          "data": {
            "text/plain": [
              "['x', 'xx', 'xxx', 'xxxx', 'y', 'yy', 'yyy', 'yyyy', 'z', 'zz', 'zzz', 'zzzz']"
            ]
          },
          "metadata": {
            "tags": []
          },
          "execution_count": 37
        }
      ]
    },
    {
      "cell_type": "code",
      "metadata": {
        "id": "UEti-roKoWFz",
        "colab_type": "code",
        "colab": {
          "base_uri": "https://localhost:8080/",
          "height": 34
        },
        "outputId": "3996c402-dfd1-414e-d41b-965725205b6f"
      },
      "source": [
        "c=[i*j for i in range(1,5) for j in a]\n",
        "c"
      ],
      "execution_count": 38,
      "outputs": [
        {
          "output_type": "execute_result",
          "data": {
            "text/plain": [
              "['x', 'y', 'z', 'xx', 'yy', 'zz', 'xxx', 'yyy', 'zzz', 'xxxx', 'yyyy', 'zzzz']"
            ]
          },
          "metadata": {
            "tags": []
          },
          "execution_count": 38
        }
      ]
    },
    {
      "cell_type": "code",
      "metadata": {
        "id": "XvXlaa9duSY-",
        "colab_type": "code",
        "colab": {
          "base_uri": "https://localhost:8080/",
          "height": 34
        },
        "outputId": "0759c37d-aa62-4c7d-debd-80ec03552b77"
      },
      "source": [
        "list1=[2,3,4]\n",
        "d=[[i+j] for i in list1 for j in range(0,3)]\n",
        "d"
      ],
      "execution_count": 39,
      "outputs": [
        {
          "output_type": "execute_result",
          "data": {
            "text/plain": [
              "[[2], [3], [4], [3], [4], [5], [4], [5], [6]]"
            ]
          },
          "metadata": {
            "tags": []
          },
          "execution_count": 39
        }
      ]
    },
    {
      "cell_type": "code",
      "metadata": {
        "id": "cyMRs8rxuSTJ",
        "colab_type": "code",
        "colab": {
          "base_uri": "https://localhost:8080/",
          "height": 34
        },
        "outputId": "7698c29c-2938-4dc7-dd23-98c26b8017da"
      },
      "source": [
        "list2=[2,3,4,5]\n",
        "k=[[i+j for i in list2] for j in range( 0,4)]\n",
        "k"
      ],
      "execution_count": 40,
      "outputs": [
        {
          "output_type": "execute_result",
          "data": {
            "text/plain": [
              "[[2, 3, 4, 5], [3, 4, 5, 6], [4, 5, 6, 7], [5, 6, 7, 8]]"
            ]
          },
          "metadata": {
            "tags": []
          },
          "execution_count": 40
        }
      ]
    },
    {
      "cell_type": "code",
      "metadata": {
        "id": "BbUXWIP4uTWx",
        "colab_type": "code",
        "colab": {
          "base_uri": "https://localhost:8080/",
          "height": 34
        },
        "outputId": "fd4a5cdf-adda-4f61-cce6-de024cebe435"
      },
      "source": [
        "list3=[1,2,3]\n",
        "p=[(j,i) for i in list3 for j in range(1,4)]\n",
        "p"
      ],
      "execution_count": 42,
      "outputs": [
        {
          "output_type": "execute_result",
          "data": {
            "text/plain": [
              "[(1, 1), (2, 1), (3, 1), (1, 2), (2, 2), (3, 2), (1, 3), (2, 3), (3, 3)]"
            ]
          },
          "metadata": {
            "tags": []
          },
          "execution_count": 42
        }
      ]
    },
    {
      "cell_type": "code",
      "metadata": {
        "id": "wl8NwdKB6gG4",
        "colab_type": "code",
        "colab": {
          "base_uri": "https://localhost:8080/",
          "height": 119
        },
        "outputId": "fde6b4ff-22f7-4de5-dd03-8f5f44cfbd3d"
      },
      "source": [
        "#Task1:3#\n",
        "def longestWord(n):\n",
        "    l=[]\n",
        "    for i in range(n):\n",
        "        s=input(\"enter a word\")\n",
        "        l.append(s)\n",
        "    print(\"list of words\",l)\n",
        "    print(\"longest word\",max(l))\n",
        "def main():\n",
        "    n=int(input(\"enter a length of list\"))\n",
        "    longestWord(n)\n",
        "main()"
      ],
      "execution_count": 51,
      "outputs": [
        {
          "output_type": "stream",
          "text": [
            "enter a length of list3\n",
            "enter a wordvamshi\n",
            "enter a wordfruit\n",
            "enter a wordpop\n",
            "list of words ['vamshi', 'fruit', 'pop']\n",
            "longest word vamshi\n"
          ],
          "name": "stdout"
        }
      ]
    },
    {
      "cell_type": "code",
      "metadata": {
        "id": "elh9XW_tvGQG",
        "colab_type": "code",
        "colab": {
          "base_uri": "https://localhost:8080/",
          "height": 102
        },
        "outputId": "f5c8a51d-dd57-4a75-e7ba-2a7c6bd870b0"
      },
      "source": [
        "#Task2:1-1#\n",
        "class Triangle:\n",
        "    def __init__(self):\n",
        "        self.a=None\n",
        "        self.b=None\n",
        "        self.c=None\n",
        "    def read(self):\n",
        "        self.a=int(input(\"enter 1st side\"))\n",
        "        self.b=int(input(\"enter 2nd side\"))\n",
        "        self.c=int(input(\"enter 3rd side\"))\n",
        "    def print(self):\n",
        "        print(self.a,self.b,self.c)\n",
        "class Area(Triangle):\n",
        "    def __init___(self):\n",
        "        self.s=None\n",
        "        self.a1=None\n",
        "    def area(self):\n",
        "        self.s=(self.a+self.b+self.c)/2\n",
        "        self.a1=(self.s*(self.s-self.a)*(self.s-self.b)*(self.s-self.c))**0.5\n",
        "        print(\"area of triangle\",self.a1)\n",
        "def main():\n",
        "    ar=Area()\n",
        "    ar.read()\n",
        "    ar.print()\n",
        "    ar.area()\n",
        "main()"
      ],
      "execution_count": 45,
      "outputs": [
        {
          "output_type": "stream",
          "text": [
            "enter 1st side2\n",
            "enter 2nd side4\n",
            "enter 3rd side5\n",
            "2 4 5\n",
            "area of triangle 3.799671038392666\n"
          ],
          "name": "stdout"
        }
      ]
    },
    {
      "cell_type": "code",
      "metadata": {
        "id": "mZzGF_WbwdD3",
        "colab_type": "code",
        "colab": {
          "base_uri": "https://localhost:8080/",
          "height": 119
        },
        "outputId": "ab3ab438-f6c0-4cf8-ad7e-940a40d205c1"
      },
      "source": [
        "#Task 2:1-2#\n",
        "def filter_long_words(n):\n",
        "    w=[]\n",
        "    for i in range(n):\n",
        "        string=input(\"enter a word\")\n",
        "        w.append(string)\n",
        "    print(\"original list\",w)\n",
        "    l=[]\n",
        "    for i in w:\n",
        "        if len(i)>n:\n",
        "            l.append(i)\n",
        "    print(\"longest word than  lenght of list\",l)\n",
        "def main():\n",
        "    n=int(input(\"enter length of list\"))\n",
        "    filter_long_words(n)\n",
        "main()"
      ],
      "execution_count": 47,
      "outputs": [
        {
          "output_type": "stream",
          "text": [
            "enter length of list3\n",
            "enter a wordvamshi\n",
            "enter a wordpop\n",
            "enter a wordpush\n",
            "original list ['vamshi', 'pop', 'push']\n",
            "longest word than  lenght of list ['vamshi', 'push']\n"
          ],
          "name": "stdout"
        }
      ]
    },
    {
      "cell_type": "code",
      "metadata": {
        "id": "3iQln7Gl463h",
        "colab_type": "code",
        "colab": {
          "base_uri": "https://localhost:8080/",
          "height": 119
        },
        "outputId": "1dfa212b-449b-444c-906d-b6fa46553ddb"
      },
      "source": [
        "#Task2:2-1#\n",
        "def length(n):\n",
        "    string=[ input(\"enter  a word\") for i in range(n)]\n",
        "    print(string)\n",
        "    l=[]\n",
        "    for i in string:\n",
        "        l.append(len(i))\n",
        "    print(l)\n",
        "def main():\n",
        "    n=int(input(\"length\"))\n",
        "    length(n)\n",
        "main()"
      ],
      "execution_count": 48,
      "outputs": [
        {
          "output_type": "stream",
          "text": [
            "length3\n",
            "enter  a wordvamshi\n",
            "enter  a wordkrishna\n",
            "enter  a wordsai\n",
            "['vamshi', 'krishna', 'sai']\n",
            "[6, 7, 3]\n"
          ],
          "name": "stdout"
        }
      ]
    },
    {
      "cell_type": "code",
      "metadata": {
        "id": "uBB6rRqD5zeP",
        "colab_type": "code",
        "colab": {
          "base_uri": "https://localhost:8080/",
          "height": 51
        },
        "outputId": "1cf0fb5b-8044-4853-d794-1680f75587c5"
      },
      "source": [
        "#Task 2-2#\n",
        "def vowel(s):\n",
        "    char=\"aeiouAEIOU\"\n",
        "    if s  in char:\n",
        "        print(True)\n",
        "    else:\n",
        "        print( False)\n",
        "def main():\n",
        "    s=input(\"enter any character to check whether it is a vowel or not\")\n",
        "    vowel(s)\n",
        "main()"
      ],
      "execution_count": 50,
      "outputs": [
        {
          "output_type": "stream",
          "text": [
            "enter any character to check whether it is a vowel or notk\n",
            "False\n"
          ],
          "name": "stdout"
        }
      ]
    }
  ]
}